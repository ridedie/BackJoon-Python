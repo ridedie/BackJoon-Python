{
 "cells": [
  {
   "cell_type": "code",
   "execution_count": null,
   "metadata": {},
   "outputs": [],
   "source": [
    "n = int(input())\n",
    "\n",
    "for i in range(n):\n",
    "    Ninput = input()\n",
    "    a = list(Ninput)\n",
    "    result = 0\n",
    "    for i in a:\n",
    "        if i == '(':\n",
    "           result += 1\n",
    "        elif i == ')':\n",
    "           result -= 1\n",
    "       \n",
    "           \n",
    "        if result < 0:\n",
    "            print(\"NO\")\n",
    "            break\n",
    "    if result > 0:\n",
    "        print(\"NO\")\n",
    "    elif result == 0:\n",
    "        print(\"YES\")\n",
    "   "
   ]
  }
 ],
 "metadata": {
  "kernelspec": {
   "display_name": "Python 3",
   "language": "python",
   "name": "python3"
  },
  "language_info": {
   "codemirror_mode": {
    "name": "ipython",
    "version": 3
   },
   "file_extension": ".py",
   "mimetype": "text/x-python",
   "name": "python",
   "nbconvert_exporter": "python",
   "pygments_lexer": "ipython3",
   "version": "3.7.3"
  }
 },
 "nbformat": 4,
 "nbformat_minor": 2
}
