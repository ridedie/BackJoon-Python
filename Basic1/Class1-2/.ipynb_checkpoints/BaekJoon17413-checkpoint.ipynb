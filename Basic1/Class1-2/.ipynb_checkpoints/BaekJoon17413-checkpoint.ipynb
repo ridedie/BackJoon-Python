{
 "cells": [
  {
   "cell_type": "code",
   "execution_count": null,
   "metadata": {},
   "outputs": [],
   "source": [
    "import sys\n",
    "S = sys.stdin.readline().strip() + \" \"\n",
    "result = \"\"\n",
    "\n",
    "stack = []\n",
    "count = 0\n",
    "\n",
    "for i in S:\n",
    "    if i == \"<\":\n",
    "        count = 1\n",
    "        for j in range(len(stack)):\n",
    "            result += stack.pop()\n",
    "    stack.append(i)\n",
    "    \n",
    "    if i == \">\":\n",
    "        count = 0\n",
    "        for j in range(len(stack)):\n",
    "            result += stack.pop(0)\n",
    "    \n",
    "    if i == \" \" and count == 0:\n",
    "        stack.pop()\n",
    "        for j in range(len(stack)):\n",
    "            result += stack.pop()\n",
    "        result += \" \"\n",
    "print(result)"
   ]
  }
 ],
 "metadata": {
  "kernelspec": {
   "display_name": "Python 3",
   "language": "python",
   "name": "python3"
  },
  "language_info": {
   "codemirror_mode": {
    "name": "ipython",
    "version": 3
   },
   "file_extension": ".py",
   "mimetype": "text/x-python",
   "name": "python",
   "nbconvert_exporter": "python",
   "pygments_lexer": "ipython3",
   "version": "3.7.3"
  }
 },
 "nbformat": 4,
 "nbformat_minor": 2
}
