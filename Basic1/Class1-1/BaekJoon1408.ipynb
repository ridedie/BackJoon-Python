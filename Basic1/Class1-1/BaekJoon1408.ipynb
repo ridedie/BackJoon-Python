{
 "cells": [
  {
   "cell_type": "code",
   "execution_count": null,
   "metadata": {},
   "outputs": [],
   "source": [
    "\n",
    "import sys\n",
    "result = list(sys.stdin.readline())\n",
    "c = len(result)\n",
    "M = int(input())\n",
    "\n",
    "for i in range(M):\n",
    "    cmd = sys.stdin.readline().split()\n",
    "    if cmd[0] == \"L\":\n",
    "        if c == 0:\n",
    "            continue\n",
    "        else:\n",
    "            c -= 1\n",
    "    elif cmd[0] == \"D\":\n",
    "        if c == len(result):\n",
    "            continue\n",
    "        else:\n",
    "            c += 1\n",
    "    \n",
    "    elif cmd[0] == \"B\":\n",
    "        if c == 0:\n",
    "            continue\n",
    "        else:\n",
    "            result.remove(result[c-1])\n",
    "            c -= 1\n",
    "            \n",
    "    \n",
    "    elif cmd[0] == \"P\":\n",
    "        result.insert(c, cmd[1])\n",
    "        c += 1\n",
    "         \n",
    "print(''.join(result))\n",
    "            "
   ]
  }
 ],
 "metadata": {
  "kernelspec": {
   "display_name": "Python 3",
   "language": "python",
   "name": "python3"
  },
  "language_info": {
   "codemirror_mode": {
    "name": "ipython",
    "version": 3
   },
   "file_extension": ".py",
   "mimetype": "text/x-python",
   "name": "python",
   "nbconvert_exporter": "python",
   "pygments_lexer": "ipython3",
   "version": "3.7.3"
  }
 },
 "nbformat": 4,
 "nbformat_minor": 2
}
