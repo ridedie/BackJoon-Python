{
 "cells": [
  {
   "cell_type": "code",
   "execution_count": null,
   "metadata": {},
   "outputs": [],
   "source": [
    "\n",
    "import sys\n",
    "from collections import deque\n",
    "n = int(input())\n",
    "deq = deque()\n",
    "result = []\n",
    "\n",
    "for i in range(n):\n",
    "    x = sys.stdin.readline().split()\n",
    "    \n",
    "    if x[0] == \"push_front\":\n",
    "        deq.appendleft(x[1])\n",
    "    elif x[0] == \"push_back\":\n",
    "        deq.append(x[1])\n",
    "    elif x[0] == \"pop_front\":\n",
    "        if len(deq) != 0:\n",
    "            result.append(deq.popleft())\n",
    "        else:\n",
    "            result.append(-1)\n",
    "    elif x[0] == \"pop_back\":\n",
    "        if len(deq) != 0:\n",
    "            result.append(deq.pop())\n",
    "        else:\n",
    "            result.append(-1)\n",
    "    elif x[0] == \"size\":\n",
    "        result.append(len(deq))\n",
    "    elif x[0] == \"empty\":\n",
    "        if len(deq) == 0:\n",
    "            result.append(1)\n",
    "        else:\n",
    "            result.append(0)\n",
    "    elif x[0] == \"front\":\n",
    "        if len(deq) != 0:\n",
    "            result.append(deq[0])\n",
    "        else:\n",
    "            result.append(-1)\n",
    "    elif x[0] == \"back\":\n",
    "        if len(deq) == 0:\n",
    "            result.append(-1)\n",
    "            \n",
    "        else:\n",
    "            result.append(deq[len(deq)-1])\n",
    "\n",
    "for i in range(len(result)):\n",
    "    print(result[i])\n",
    "    \n"
   ]
  }
 ],
 "metadata": {
  "kernelspec": {
   "display_name": "Python 3",
   "language": "python",
   "name": "python3"
  },
  "language_info": {
   "codemirror_mode": {
    "name": "ipython",
    "version": 3
   },
   "file_extension": ".py",
   "mimetype": "text/x-python",
   "name": "python",
   "nbconvert_exporter": "python",
   "pygments_lexer": "ipython3",
   "version": "3.7.3"
  }
 },
 "nbformat": 4,
 "nbformat_minor": 2
}
