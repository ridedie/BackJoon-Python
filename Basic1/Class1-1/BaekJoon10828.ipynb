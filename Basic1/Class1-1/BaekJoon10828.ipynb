{
 "cells": [
  {
   "cell_type": "code",
   "execution_count": null,
   "metadata": {},
   "outputs": [],
   "source": [
    "import sys\n",
    "n = int(input())\n",
    "x= []\n",
    "stack = []\n",
    "result = []\n",
    "\n",
    "for i in range(n):\n",
    "    x = sys.stdin.readline().split()\n",
    "    if x[0] == \"push\":\n",
    "        stack.append(x[1])\n",
    "    elif x[0] == \"pop\":\n",
    "        if len(stack) != 0:\n",
    "            result.append(stack.pop(-1))\n",
    "        else:\n",
    "            result.append(-1)\n",
    "    elif x[0] == \"size\":\n",
    "        result.append(len(stack))\n",
    "    elif x[0] == \"empty\":\n",
    "        if len(stack) != 0:\n",
    "            result.append(0)\n",
    "        else:\n",
    "            result.append(1)\n",
    "    elif x[0] == \"top\":\n",
    "        if len(stack) != 0:\n",
    "            result.append(stack[-1])\n",
    "        else:\n",
    "            result.append(-1)\n",
    "\n",
    "for i in range(len(result)):\n",
    "    print(result[i])"
   ]
  }
 ],
 "metadata": {
  "kernelspec": {
   "display_name": "Python 3",
   "language": "python",
   "name": "python3"
  },
  "language_info": {
   "codemirror_mode": {
    "name": "ipython",
    "version": 3
   },
   "file_extension": ".py",
   "mimetype": "text/x-python",
   "name": "python",
   "nbconvert_exporter": "python",
   "pygments_lexer": "ipython3",
   "version": "3.7.3"
  }
 },
 "nbformat": 4,
 "nbformat_minor": 2
}
