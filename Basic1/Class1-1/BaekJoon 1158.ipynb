{
 "cells": [
  {
   "cell_type": "code",
   "execution_count": null,
   "metadata": {},
   "outputs": [],
   "source": [
    "\n",
    "from collections import deque\n",
    "\n",
    "N, K = map(int, input().split())\n",
    "result = []\n",
    "deq = deque([i+1 for i in range(N)])\n",
    "\n",
    "while deq:\n",
    "  for _ in range(K-1):\n",
    "    deq.append(deq.popleft())\n",
    "\n",
    "  result.append(deq.popleft())\n",
    "\n",
    "print(str(result).replace('[', '<').replace(']', '>'))"
   ]
  }
 ],
 "metadata": {
  "kernelspec": {
   "display_name": "Python 3",
   "language": "python",
   "name": "python3"
  },
  "language_info": {
   "codemirror_mode": {
    "name": "ipython",
    "version": 3
   },
   "file_extension": ".py",
   "mimetype": "text/x-python",
   "name": "python",
   "nbconvert_exporter": "python",
   "pygments_lexer": "ipython3",
   "version": "3.7.3"
  }
 },
 "nbformat": 4,
 "nbformat_minor": 2
}
