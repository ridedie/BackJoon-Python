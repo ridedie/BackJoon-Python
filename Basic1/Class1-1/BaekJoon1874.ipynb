{
 "cells": [
  {
   "cell_type": "code",
   "execution_count": null,
   "metadata": {},
   "outputs": [],
   "source": [
    "n = int(input())\n",
    "a = []\n",
    "r = 0\n",
    "count = 1\n",
    "result = []\n",
    "for i in range(n):\n",
    "    x = int(input())\n",
    "    while count <= x:\n",
    "        a.append(count)\n",
    "        result.append(\"+\")\n",
    "        count+=1\n",
    "    \n",
    "    if a[-1] == x:\n",
    "        a.pop()\n",
    "        result.append(\"-\")\n",
    "    else:\n",
    "        r = 1\n",
    "        break\n",
    "\n",
    "if r == 0:\n",
    "    for i in result:\n",
    "        print(i)       \n",
    "elif r == 1:\n",
    "    print(\"NO\")"
   ]
  }
 ],
 "metadata": {
  "kernelspec": {
   "display_name": "Python 3",
   "language": "python",
   "name": "python3"
  },
  "language_info": {
   "codemirror_mode": {
    "name": "ipython",
    "version": 3
   },
   "file_extension": ".py",
   "mimetype": "text/x-python",
   "name": "python",
   "nbconvert_exporter": "python",
   "pygments_lexer": "ipython3",
   "version": "3.7.3"
  }
 },
 "nbformat": 4,
 "nbformat_minor": 2
}
