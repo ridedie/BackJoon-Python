{
 "cells": [
  {
   "cell_type": "code",
   "execution_count": null,
   "metadata": {},
   "outputs": [],
   "source": [
    "\n",
    "import sys\n",
    "n = int(input())\n",
    "queue = []\n",
    "result = []\n",
    "\n",
    "for i in range(n):\n",
    "    x = list(sys.stdin.readline().split())\n",
    "    if x[0] == \"push\":\n",
    "        queue.append(x[1])\n",
    "    elif x[0] == \"pop\":\n",
    "        if len(queue) == 0:\n",
    "            result.append(-1)\n",
    "        else:\n",
    "            result.append(queue.pop(0))\n",
    "    elif x[0] == \"size\":\n",
    "        result.append(len(queue))\n",
    "    elif x[0] == \"empty\":\n",
    "        if len(queue) == 0:\n",
    "            result.append(1)\n",
    "        else:\n",
    "            result.append(0)\n",
    "    elif x[0] == \"front\":\n",
    "        if len(queue) == 0:\n",
    "            result.append(-1)\n",
    "        else:\n",
    "            result.append(queue[0])\n",
    "    elif x[0] == \"back\":\n",
    "        if len(queue) == 0:\n",
    "            result.append(-1)\n",
    "        else:\n",
    "            result.append(queue[-1])\n",
    "            \n",
    "for i in range(len(result)):\n",
    "    print(result[i])"
   ]
  }
 ],
 "metadata": {
  "kernelspec": {
   "display_name": "Python 3",
   "language": "python",
   "name": "python3"
  },
  "language_info": {
   "codemirror_mode": {
    "name": "ipython",
    "version": 3
   },
   "file_extension": ".py",
   "mimetype": "text/x-python",
   "name": "python",
   "nbconvert_exporter": "python",
   "pygments_lexer": "ipython3",
   "version": "3.7.3"
  }
 },
 "nbformat": 4,
 "nbformat_minor": 2
}
