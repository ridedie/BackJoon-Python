{
 "cells": [
  {
   "cell_type": "code",
   "execution_count": 146,
   "metadata": {},
   "outputs": [
    {
     "name": "stdout",
     "output_type": "stream",
     "text": [
      "mmeins\n",
      "M\n"
     ]
    }
   ],
   "source": [
    "box= input().upper()\n",
    "SetBox = list(set(box))\n",
    "A=[]\n",
    "\n",
    "for i in SetBox:\n",
    "    count = box.count(i)\n",
    "    A.append(count)\n",
    "    \n",
    "if A.count(max(A)) >= 2:\n",
    "    print(\"?\")\n",
    "else:\n",
    "    print(SetBox[A.index(max(A))])"
   ]
  }
 ],
 "metadata": {
  "kernelspec": {
   "display_name": "Python 3",
   "language": "python",
   "name": "python3"
  },
  "language_info": {
   "codemirror_mode": {
    "name": "ipython",
    "version": 3
   },
   "file_extension": ".py",
   "mimetype": "text/x-python",
   "name": "python",
   "nbconvert_exporter": "python",
   "pygments_lexer": "ipython3",
   "version": "3.7.3"
  }
 },
 "nbformat": 4,
 "nbformat_minor": 2
}
