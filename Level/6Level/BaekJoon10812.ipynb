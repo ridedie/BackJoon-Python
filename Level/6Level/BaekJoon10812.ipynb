{
 "cells": [
  {
   "cell_type": "code",
   "execution_count": 4,
   "metadata": {},
   "outputs": [
    {
     "name": "stdout",
     "output_type": "stream",
     "text": [
      "6 3\n",
      "1 6 4\n",
      "1 3 3\n",
      "3 9 8\n",
      "6 4 5 1 2 3 "
     ]
    }
   ],
   "source": [
    "N, M = map(int, input().split())\n",
    "box = [i+1 for i in range(N)]\n",
    "\n",
    "for _ in range(M):\n",
    "    i, j, k = map(int, input().split())\n",
    "    box=box[:i-1]+box[k-1:j]+box[i-1:k-1]+box[j:]\n",
    "for A in box:\n",
    "    print(A, end=\" \")"
   ]
  }
 ],
 "metadata": {
  "kernelspec": {
   "display_name": "Python 3",
   "language": "python",
   "name": "python3"
  },
  "language_info": {
   "codemirror_mode": {
    "name": "ipython",
    "version": 3
   },
   "file_extension": ".py",
   "mimetype": "text/x-python",
   "name": "python",
   "nbconvert_exporter": "python",
   "pygments_lexer": "ipython3",
   "version": "3.7.3"
  }
 },
 "nbformat": 4,
 "nbformat_minor": 2
}
