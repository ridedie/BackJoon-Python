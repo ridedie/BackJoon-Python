{
 "cells": [
  {
   "cell_type": "code",
   "execution_count": 2,
   "metadata": {},
   "outputs": [
    {
     "ename": "SyntaxError",
     "evalue": "unexpected EOF while parsing (<ipython-input-2-095d5dc87304>, line 5)",
     "output_type": "error",
     "traceback": [
      "\u001b[1;36m  File \u001b[1;32m\"<ipython-input-2-095d5dc87304>\"\u001b[1;36m, line \u001b[1;32m5\u001b[0m\n\u001b[1;33m    print(sum(N[1:])\u001b[0m\n\u001b[1;37m                    ^\u001b[0m\n\u001b[1;31mSyntaxError\u001b[0m\u001b[1;31m:\u001b[0m unexpected EOF while parsing\n"
     ]
    }
   ],
   "source": [
    "C = int(input())\n",
    "N = []\n",
    "for i in range(C):\n",
    "    N = list(map(int, input().split()))\n",
    "    print(sum(N[1:])"
   ]
  },
  {
   "cell_type": "code",
   "execution_count": 10,
   "metadata": {},
   "outputs": [
    {
     "name": "stdout",
     "output_type": "stream",
     "text": [
      "9 100 99 98 97 96 95 94 93 91\n",
      "96 3\n"
     ]
    }
   ],
   "source": [
    "N = list(map(int, input().split()))\n",
    "print(round((sum(N[1:]))/N[0]), 3)"
   ]
  },
  {
   "cell_type": "code",
   "execution_count": 33,
   "metadata": {},
   "outputs": [
    {
     "name": "stdout",
     "output_type": "stream",
     "text": [
      "2\n",
      "3 70 81 90\n",
      "66.667%\n",
      "3 70 80 90\n",
      "33.333%\n"
     ]
    }
   ],
   "source": [
    "C = int(input())\n",
    "N = []\n",
    "Avg=0\n",
    "for i in range(C):\n",
    "    N = list(map(int, input().split()))\n",
    "    Avg = sum(N[1:])/N[0]\n",
    "    count=0\n",
    "    for j in N[1:]:\n",
    "        if j > Avg:\n",
    "            count+=1\n",
    "        X = count/N[0]*100\n",
    "    print(f'{X:.3f}%')"
   ]
  }
 ],
 "metadata": {
  "kernelspec": {
   "display_name": "Python 3",
   "language": "python",
   "name": "python3"
  },
  "language_info": {
   "codemirror_mode": {
    "name": "ipython",
    "version": 3
   },
   "file_extension": ".py",
   "mimetype": "text/x-python",
   "name": "python",
   "nbconvert_exporter": "python",
   "pygments_lexer": "ipython3",
   "version": "3.7.3"
  }
 },
 "nbformat": 4,
 "nbformat_minor": 2
}
