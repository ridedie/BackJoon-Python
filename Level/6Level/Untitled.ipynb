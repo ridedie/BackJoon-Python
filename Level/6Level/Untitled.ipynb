{
 "cells": [
  {
   "cell_type": "code",
   "execution_count": 8,
   "metadata": {},
   "outputs": [
    {
     "name": "stdout",
     "output_type": "stream",
     "text": [
      "ljes=njak\n",
      "['l', 'j', 'e', 's', '=', 'n', 'j', 'a', 'k']\n",
      "0\n"
     ]
    }
   ],
   "source": [
    "A = [\"c=\", \"c-\", \"dz=\", \"d-\", \"ij\", \"nj\", \"s=\", \"z=\"]\n",
    "B = list(input())\n",
    "count=0\n",
    "\n",
    "for i in A:\n",
    "    B = B.replace()\n",
    "    \n",
    "    "
   ]
  },
  {
   "cell_type": "code",
   "execution_count": null,
   "metadata": {},
   "outputs": [],
   "source": []
  }
 ],
 "metadata": {
  "kernelspec": {
   "display_name": "Python 3",
   "language": "python",
   "name": "python3"
  },
  "language_info": {
   "codemirror_mode": {
    "name": "ipython",
    "version": 3
   },
   "file_extension": ".py",
   "mimetype": "text/x-python",
   "name": "python",
   "nbconvert_exporter": "python",
   "pygments_lexer": "ipython3",
   "version": "3.7.3"
  }
 },
 "nbformat": 4,
 "nbformat_minor": 2
}
