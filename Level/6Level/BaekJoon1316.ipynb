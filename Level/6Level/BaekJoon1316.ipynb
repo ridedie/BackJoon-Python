{
 "cells": [
  {
   "cell_type": "code",
   "execution_count": null,
   "metadata": {},
   "outputs": [],
   "source": [
    "N = int(input())\n",
    "\n",
    "G = 0\n",
    "\n",
    "for _ in range(N):\n",
    "    A = input()\n",
    "    E = 0\n",
    "    for i in range(len(A)-1):\n",
    "        if A[i] ! A[i+1]:\n",
    "            C = A[i+1:]\n",
    "            if C.count(A[i]) > 0:\n",
    "                E += 1\n",
    "    if E == 0:\n",
    "        G += 1\n",
    "print(G)"
   ]
  }
 ],
 "metadata": {
  "kernelspec": {
   "display_name": "Python 3",
   "language": "python",
   "name": "python3"
  },
  "language_info": {
   "codemirror_mode": {
    "name": "ipython",
    "version": 3
   },
   "file_extension": ".py",
   "mimetype": "text/x-python",
   "name": "python",
   "nbconvert_exporter": "python",
   "pygments_lexer": "ipython3",
   "version": "3.7.3"
  }
 },
 "nbformat": 4,
 "nbformat_minor": 2
}
