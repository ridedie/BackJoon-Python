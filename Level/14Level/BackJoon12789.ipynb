{
 "cells": [
  {
   "cell_type": "code",
   "execution_count": null,
   "metadata": {},
   "outputs": [],
   "source": [
    "n = int(input())\n",
    "m = list(map(int, input().split()))\n",
    "stack = []\n",
    "t = 1\n",
    "\n",
    "while m:\n",
    "    if m[0] == t:\n",
    "        m.pop(0)\n",
    "        t += 1\n",
    "    else:\n",
    "        stack.append(m.pop(0))\n",
    "        \n",
    "    while stack:\n",
    "        if stack[-1] == t:\n",
    "           stack.pop()\n",
    "           t += 1\n",
    "        else:\n",
    "            break \n",
    "    \n",
    "if len(stack) == 0:\n",
    "    print(\"Nice\")\n",
    "else:\n",
    "    print(\"Sad\")"
   ]
  }
 ],
 "metadata": {
  "kernelspec": {
   "display_name": "Python 3",
   "language": "python",
   "name": "python3"
  },
  "language_info": {
   "codemirror_mode": {
    "name": "ipython",
    "version": 3
   },
   "file_extension": ".py",
   "mimetype": "text/x-python",
   "name": "python",
   "nbconvert_exporter": "python",
   "pygments_lexer": "ipython3",
   "version": "3.7.3"
  }
 },
 "nbformat": 4,
 "nbformat_minor": 2
}
