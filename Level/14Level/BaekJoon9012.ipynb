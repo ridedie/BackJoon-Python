{
 "cells": [
  {
   "cell_type": "code",
   "execution_count": null,
   "metadata": {},
   "outputs": [],
   "source": [
    "n = int(input())\n",
    "b = []\n",
    "for i in range(n):\n",
    "    rcount = 0\n",
    "    lcount = 0\n",
    "    a = list(map(str, input()))\n",
    "    for j in range(len(a)):\n",
    "        if a[j] == '(':\n",
    "            lcount += 1\n",
    "        elif a[j] == ')':\n",
    "            rcount += 1\n",
    "    if rcount == lcount:\n",
    "        b.append(\"YES\")  \n",
    "    else:\n",
    "        b.append(\"NO\")\n",
    "for i in b:\n",
    "    print(i)"
   ]
  }
 ],
 "metadata": {
  "kernelspec": {
   "display_name": "Python 3",
   "language": "python",
   "name": "python3"
  },
  "language_info": {
   "codemirror_mode": {
    "name": "ipython",
    "version": 3
   },
   "file_extension": ".py",
   "mimetype": "text/x-python",
   "name": "python",
   "nbconvert_exporter": "python",
   "pygments_lexer": "ipython3",
   "version": "3.7.3"
  }
 },
 "nbformat": 4,
 "nbformat_minor": 2
}
