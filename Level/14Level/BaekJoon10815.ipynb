{
 "cells": [
  {
   "cell_type": "code",
   "execution_count": null,
   "metadata": {},
   "outputs": [],
   "source": [
    "import sys\n",
    "\n",
    "N = int(sys.stdin.readline())\n",
    "A = sorted(list(map(int, sys.stdin.readline().split())))\n",
    "M = int(sys.stdin.readline())\n",
    "B = list(map(int, sys.stdin.readline().split()))\n",
    "\n",
    "for check in B:\n",
    "    X, Y = 0, N-1\n",
    "    exist = False\n",
    "    while X <= Y:\n",
    "        mid = (X + Y) // 2\n",
    "        if A[mid] > check:\n",
    "            Y = mid - 1\n",
    "        elif A[mid] < check:\n",
    "            X = mid + 1\n",
    "        else:\n",
    "            exist = True\n",
    "            break\n",
    "    print(1 if exist else 0, end=' ')"
   ]
  }
 ],
 "metadata": {
  "kernelspec": {
   "display_name": "Python 3",
   "language": "python",
   "name": "python3"
  },
  "language_info": {
   "codemirror_mode": {
    "name": "ipython",
    "version": 3
   },
   "file_extension": ".py",
   "mimetype": "text/x-python",
   "name": "python",
   "nbconvert_exporter": "python",
   "pygments_lexer": "ipython3",
   "version": "3.7.3"
  }
 },
 "nbformat": 4,
 "nbformat_minor": 2
}
