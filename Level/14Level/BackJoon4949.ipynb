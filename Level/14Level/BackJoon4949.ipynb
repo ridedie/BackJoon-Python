{
 "cells": [
  {
   "cell_type": "code",
   "execution_count": null,
   "metadata": {},
   "outputs": [],
   "source": [
    "x=[]\n",
    "while True:\n",
    "    s = list(map(str, input()))\n",
    "    if s[0] == '.':\n",
    "        break\n",
    "    lcount = rcount = 0\n",
    "    for i in range(len(s)):\n",
    "        if s[i] == '(' or s[i] == '[':\n",
    "            lcount += 1\n",
    "        elif s[i] == ')' or s[i] == ']':\n",
    "            rcount += 1\n",
    "    print(lcount, rcount)\n",
    "    if lcount == rcount:\n",
    "        x.append(\"YES\")\n",
    "    else:\n",
    "        x.append(\"NO\")\n",
    "\n",
    "for i in x:\n",
    "    print(i)"
   ]
  }
 ],
 "metadata": {
  "kernelspec": {
   "display_name": "Python 3",
   "language": "python",
   "name": "python3"
  },
  "language_info": {
   "codemirror_mode": {
    "name": "ipython",
    "version": 3
   },
   "file_extension": ".py",
   "mimetype": "text/x-python",
   "name": "python",
   "nbconvert_exporter": "python",
   "pygments_lexer": "ipython3",
   "version": "3.7.3"
  }
 },
 "nbformat": 4,
 "nbformat_minor": 2
}
