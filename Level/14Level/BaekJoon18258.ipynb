{
 "cells": [
  {
   "cell_type": "code",
   "execution_count": null,
   "metadata": {},
   "outputs": [],
   "source": [
    "import sys\n",
    "n = int(input())\n",
    "r = []\n",
    "q = []\n",
    "result =[]\n",
    "for i in range(n):\n",
    "    q = sys.stdin.readline().split()\n",
    "    if q[0] == \"push\":\n",
    "        r.append(q[1])\n",
    "    elif q[0] == \"pop\":\n",
    "        if len(r) == 0:\n",
    "            result.append(-1)\n",
    "        else:\n",
    "            result.append(r.pop(0))\n",
    "    elif q[0] == \"size\":\n",
    "        result.append(len(r))\n",
    "    elif q[0] == \"empty\":\n",
    "        if len(r) == 0:\n",
    "            result.append(1)\n",
    "        else:\n",
    "            result.append(0)\n",
    "    elif q[0] == \"front\":\n",
    "        if len(r) == 0:\n",
    "            result.append(-1)\n",
    "        else:\n",
    "            result.append(r[0])\n",
    "    elif q[0] == \"back\":\n",
    "        if len(r) == 0:\n",
    "            result.append(-1)\n",
    "        else:\n",
    "            result.append(r[-1])\n",
    "            \n",
    "for i in range(len(result)):\n",
    "    print(result[i])"
   ]
  }
 ],
 "metadata": {
  "kernelspec": {
   "display_name": "Python 3",
   "language": "python",
   "name": "python3"
  },
  "language_info": {
   "codemirror_mode": {
    "name": "ipython",
    "version": 3
   },
   "file_extension": ".py",
   "mimetype": "text/x-python",
   "name": "python",
   "nbconvert_exporter": "python",
   "pygments_lexer": "ipython3",
   "version": "3.7.3"
  }
 },
 "nbformat": 4,
 "nbformat_minor": 2
}
