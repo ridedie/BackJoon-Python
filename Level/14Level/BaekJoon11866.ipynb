{
 "cells": [
  {
   "cell_type": "code",
   "execution_count": null,
   "metadata": {},
   "outputs": [],
   "source": [
    "import sys\n",
    "from collections import deque\n",
    "\n",
    "n, k = map(int, sys.stdin.readline().split())\n",
    "q = deque([i+1 for i in range(n)])\n",
    "r = []\n",
    "while q:\n",
    "    \n",
    "    for i in range(k-1):\n",
    "        q.append(q.popleft())\n",
    "    r.append(q.popleft())\n",
    "    \n",
    "print(\"<\", end='')\n",
    "print(', '.join(map(str,r)), end='')\n",
    "print(\">\")"
   ]
  }
 ],
 "metadata": {
  "kernelspec": {
   "display_name": "Python 3",
   "language": "python",
   "name": "python3"
  },
  "language_info": {
   "codemirror_mode": {
    "name": "ipython",
    "version": 3
   },
   "file_extension": ".py",
   "mimetype": "text/x-python",
   "name": "python",
   "nbconvert_exporter": "python",
   "pygments_lexer": "ipython3",
   "version": "3.7.3"
  }
 },
 "nbformat": 4,
 "nbformat_minor": 2
}
