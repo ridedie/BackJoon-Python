{
 "cells": [
  {
   "cell_type": "code",
   "execution_count": null,
   "metadata": {},
   "outputs": [],
   "source": [
    "from collections import deque\n",
    "\n",
    "n = int(input())\n",
    "deque = deque()\n",
    "result = []\n",
    "for i in range(n):\n",
    "    x = list(map(int, input().split()))\n",
    "    \n",
    "    if x[0] == 1:\n",
    "        deque.appendleft(x[1])\n",
    "    elif x[0] == 2:\n",
    "        deque.append(x[1])\n",
    "    elif x[0] == 3:\n",
    "        if len(deque) != 0:\n",
    "            result.append(deque.popleft())\n",
    "        else:\n",
    "            result.append(-1)\n",
    "    elif x[0] == 4:\n",
    "        if len(deque) != 0:\n",
    "            result.append(deque.pop())\n",
    "        else:\n",
    "            result.append(-1)\n",
    "    elif x[0] == 5:\n",
    "        result.append(len(deque))\n",
    "    elif x[0] == 6:\n",
    "        if len(deque) == 0:\n",
    "            result.append(1)\n",
    "        else:\n",
    "            result.append(0)\n",
    "    elif x[0] == 7:\n",
    "        if len(deque) != 0:\n",
    "            result.append((deque[0]))\n",
    "        else:\n",
    "            result.append(-1)\n",
    "    elif x[0] == 8:\n",
    "        if len(deque) != 0:\n",
    "            result.append(deque[-1])\n",
    "        else:\n",
    "            result.append(-1)\n",
    "            \n",
    "    print(result)\n",
    "    print(deque)\n",
    "for i in range(len(result)):\n",
    "    print(result[i])"
   ]
  }
 ],
 "metadata": {
  "kernelspec": {
   "display_name": "Python 3",
   "language": "python",
   "name": "python3"
  },
  "language_info": {
   "codemirror_mode": {
    "name": "ipython",
    "version": 3
   },
   "file_extension": ".py",
   "mimetype": "text/x-python",
   "name": "python",
   "nbconvert_exporter": "python",
   "pygments_lexer": "ipython3",
   "version": "3.7.3"
  }
 },
 "nbformat": 4,
 "nbformat_minor": 2
}
