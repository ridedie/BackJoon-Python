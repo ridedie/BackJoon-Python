{
 "cells": [
  {
   "cell_type": "code",
   "execution_count": 22,
   "metadata": {},
   "outputs": [
    {
     "name": "stdout",
     "output_type": "stream",
     "text": [
      "3 3 3\n",
      "13000\n"
     ]
    }
   ],
   "source": [
    "A, B, C = map(int, (input().split()))\n",
    "\n",
    "if A==B==C:\n",
    "    print(10000+A*1000)\n",
    "elif A==B:\n",
    "    print(1000+A*100)\n",
    "elif B==C:\n",
    "    print(1000+B*100)\n",
    "elif A==C:\n",
    "    print(1000+A*100)\n",
    "else:\n",
    "    print(max(A,B,C)*100)"
   ]
  }
 ],
 "metadata": {
  "kernelspec": {
   "display_name": "Python 3",
   "language": "python",
   "name": "python3"
  },
  "language_info": {
   "codemirror_mode": {
    "name": "ipython",
    "version": 3
   },
   "file_extension": ".py",
   "mimetype": "text/x-python",
   "name": "python",
   "nbconvert_exporter": "python",
   "pygments_lexer": "ipython3",
   "version": "3.7.3"
  }
 },
 "nbformat": 4,
 "nbformat_minor": 2
}
