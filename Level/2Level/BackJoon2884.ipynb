{
 "cells": [
  {
   "cell_type": "code",
   "execution_count": 19,
   "metadata": {},
   "outputs": [
    {
     "name": "stdout",
     "output_type": "stream",
     "text": [
      "22 56\n",
      "22 11\n"
     ]
    }
   ],
   "source": [
    "H, M = map(int, (input().split()))\n",
    "if M >= 45:\n",
    "    print(H, M-45)\n",
    "elif H > 0 and M < 45:\n",
    "    print(H-1, M+15)\n",
    "else:\n",
    "    print(H+23, M+15)"
   ]
  }
 ],
 "metadata": {
  "kernelspec": {
   "display_name": "Python 3",
   "language": "python",
   "name": "python3"
  },
  "language_info": {
   "codemirror_mode": {
    "name": "ipython",
    "version": 3
   },
   "file_extension": ".py",
   "mimetype": "text/x-python",
   "name": "python",
   "nbconvert_exporter": "python",
   "pygments_lexer": "ipython3",
   "version": "3.7.3"
  }
 },
 "nbformat": 4,
 "nbformat_minor": 2
}
