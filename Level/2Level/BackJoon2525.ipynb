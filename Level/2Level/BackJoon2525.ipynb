{
 "cells": [
  {
   "cell_type": "code",
   "execution_count": 10,
   "metadata": {},
   "outputs": [
    {
     "name": "stdout",
     "output_type": "stream",
     "text": [
      "17 40\n",
      "80\n",
      "19 0\n"
     ]
    }
   ],
   "source": [
    "A, B = map(int, (input().split()))\n",
    "C = int(input())\n",
    "\n",
    "H = A+C//60\n",
    "M = B+C%60\n",
    "\n",
    "if M >= 60:\n",
    "    M -= 60\n",
    "    H += 1\n",
    "\n",
    "if H >= 24:\n",
    "    H -= 24\n",
    "\n",
    "print(H, M)"
   ]
  }
 ],
 "metadata": {
  "kernelspec": {
   "display_name": "Python 3",
   "language": "python",
   "name": "python3"
  },
  "language_info": {
   "codemirror_mode": {
    "name": "ipython",
    "version": 3
   },
   "file_extension": ".py",
   "mimetype": "text/x-python",
   "name": "python",
   "nbconvert_exporter": "python",
   "pygments_lexer": "ipython3",
   "version": "3.7.3"
  }
 },
 "nbformat": 4,
 "nbformat_minor": 2
}
