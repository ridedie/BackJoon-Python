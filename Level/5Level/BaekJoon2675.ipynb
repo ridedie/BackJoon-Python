{
 "cells": [
  {
   "cell_type": "code",
   "execution_count": 7,
   "metadata": {},
   "outputs": [
    {
     "name": "stdout",
     "output_type": "stream",
     "text": [
      "2\n",
      "4 AVC\n",
      "AAAAVVVVCCCC\n",
      "3 ///H\n",
      "/////////HHH\n"
     ]
    }
   ],
   "source": [
    "T = int(input())\n",
    "P=\"\"\n",
    "for i in range(T):\n",
    "    R, S = input().split()\n",
    "    for j in range(len(S)):\n",
    "        P += S[j]*int(R)\n",
    "    print(P)\n",
    "    P=\"\""
   ]
  }
 ],
 "metadata": {
  "kernelspec": {
   "display_name": "Python 3",
   "language": "python",
   "name": "python3"
  },
  "language_info": {
   "codemirror_mode": {
    "name": "ipython",
    "version": 3
   },
   "file_extension": ".py",
   "mimetype": "text/x-python",
   "name": "python",
   "nbconvert_exporter": "python",
   "pygments_lexer": "ipython3",
   "version": "3.7.3"
  }
 },
 "nbformat": 4,
 "nbformat_minor": 2
}
