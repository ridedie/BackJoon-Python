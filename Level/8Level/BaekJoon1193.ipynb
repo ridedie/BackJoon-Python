{
 "cells": [
  {
   "cell_type": "code",
   "execution_count": null,
   "metadata": {},
   "outputs": [],
   "source": [
    "X = int(input())\n",
    "\n",
    "N = 1\n",
    "\n",
    "while X > N:\n",
    "    X -= N\n",
    "    N += 1\n",
    "\n",
    "if N%2 == 0:\n",
    "    A = x\n",
    "    B = N-X+1\n",
    "else:\n",
    "    A =N-X+1\n",
    "    B = x"
   ]
  },
  {
   "cell_type": "code",
   "execution_count": null,
   "metadata": {},
   "outputs": [],
   "source": [
    "X=int(input())\n",
    "\n",
    "line=1\n",
    "while X>line:\n",
    "    X-=line\n",
    "    line+=1\n",
    "    \n",
    "if line%2==0:\n",
    "    a=X\n",
    "    b=line-X+1\n",
    "else:\n",
    "    a=line-X+1\n",
    "    b=X\n",
    "    \n",
    "print(a, '/', b, sep='')"
   ]
  }
 ],
 "metadata": {
  "kernelspec": {
   "display_name": "Python 3",
   "language": "python",
   "name": "python3"
  },
  "language_info": {
   "codemirror_mode": {
    "name": "ipython",
    "version": 3
   },
   "file_extension": ".py",
   "mimetype": "text/x-python",
   "name": "python",
   "nbconvert_exporter": "python",
   "pygments_lexer": "ipython3",
   "version": "3.7.3"
  }
 },
 "nbformat": 4,
 "nbformat_minor": 2
}
