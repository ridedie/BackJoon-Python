{
 "cells": [
  {
   "cell_type": "code",
   "execution_count": 4,
   "metadata": {},
   "outputs": [
    {
     "name": "stdout",
     "output_type": "stream",
     "text": [
      "3\n",
      "20 24\n",
      "40 21\n",
      "10 12\n",
      "360\n"
     ]
    }
   ],
   "source": [
    "N = int(input())\n",
    "xlist = []\n",
    "ylist = []\n",
    "for i in range(N):\n",
    "    x, y = map(int, input().split())\n",
    "    xlist.append(x)\n",
    "    ylist.append(y)\n",
    "    \n",
    "print((max(xlist)-min(xlist))*(max(ylist)-min(ylist)))"
   ]
  }
 ],
 "metadata": {
  "kernelspec": {
   "display_name": "Python 3",
   "language": "python",
   "name": "python3"
  },
  "language_info": {
   "codemirror_mode": {
    "name": "ipython",
    "version": 3
   },
   "file_extension": ".py",
   "mimetype": "text/x-python",
   "name": "python",
   "nbconvert_exporter": "python",
   "pygments_lexer": "ipython3",
   "version": "3.7.3"
  }
 },
 "nbformat": 4,
 "nbformat_minor": 2
}
