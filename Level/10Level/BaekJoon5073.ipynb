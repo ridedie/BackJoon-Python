{
 "cells": [
  {
   "cell_type": "code",
   "execution_count": null,
   "metadata": {},
   "outputs": [],
   "source": [
    "while True :\n",
    "  A, B, C = map(int, input().split())\n",
    "  if A == B == C == 0 :\n",
    "    break\n",
    "  if sum((A, B, C)) - max((A, B, C)) <= max((A, B, C) :\n",
    "    print(\"Invalid\")\n",
    "  elif A == B == C :\n",
    "    print('Equilateral')\n",
    "  elif A == B or B == C or A == C :\n",
    "    print(\"Isosceles\")\n",
    "  else :\n",
    "    print(\"Scalene\")"
   ]
  },
  {
   "cell_type": "code",
   "execution_count": null,
   "metadata": {},
   "outputs": [],
   "source": []
  }
 ],
 "metadata": {
  "kernelspec": {
   "display_name": "Python 3",
   "language": "python",
   "name": "python3"
  },
  "language_info": {
   "codemirror_mode": {
    "name": "ipython",
    "version": 3
   },
   "file_extension": ".py",
   "mimetype": "text/x-python",
   "name": "python",
   "nbconvert_exporter": "python",
   "pygments_lexer": "ipython3",
   "version": "3.7.3"
  }
 },
 "nbformat": 4,
 "nbformat_minor": 2
}
