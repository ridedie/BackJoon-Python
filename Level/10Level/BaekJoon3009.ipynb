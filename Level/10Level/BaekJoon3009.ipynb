{
 "cells": [
  {
   "cell_type": "code",
   "execution_count": null,
   "metadata": {},
   "outputs": [],
   "source": [
    "x_nums = []\n",
    "y_nums = []\n",
    "for _ in range(3):\n",
    "    x, y = map(int, input().split())\n",
    "    x_nums.append(x)\n",
    "    y_nums.append(y)\n",
    "\n",
    "for i in range(3):\n",
    "    if x_nums.count(x_nums[i]) == 1:\n",
    "        x4 = x_nums[i]\n",
    "    if y_nums.count(y_nums[i]) == 1:\n",
    "        y4 = y_nums[i]\n",
    "print(x4, y4)"
   ]
  },
  {
   "cell_type": "code",
   "execution_count": null,
   "metadata": {},
   "outputs": [],
   "source": [
    "xlist = []\n",
    "ylist = []\n",
    "\n",
    "for i in range(3):\n",
    "    x, y = map(int, input().split())\n",
    "    xlist.append(x)\n",
    "    ylist.append(y)\n",
    "    \n",
    "for i in range(3):\n",
    "    if xlist.count(xlist[i])  == 1:\n",
    "        "
   ]
  }
 ],
 "metadata": {
  "kernelspec": {
   "display_name": "Python 3",
   "language": "python",
   "name": "python3"
  },
  "language_info": {
   "codemirror_mode": {
    "name": "ipython",
    "version": 3
   },
   "file_extension": ".py",
   "mimetype": "text/x-python",
   "name": "python",
   "nbconvert_exporter": "python",
   "pygments_lexer": "ipython3",
   "version": "3.7.3"
  }
 },
 "nbformat": 4,
 "nbformat_minor": 2
}
