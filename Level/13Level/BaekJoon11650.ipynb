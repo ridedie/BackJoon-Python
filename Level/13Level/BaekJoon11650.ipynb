{
 "cells": [
  {
   "cell_type": "code",
   "execution_count": null,
   "metadata": {},
   "outputs": [],
   "source": [
    "import sys\n",
    "N = int(input())\n",
    "arr = []\n",
    "for i in range(N):\n",
    "    a,b = map(int, sys.stdin.readline().split())\n",
    "    arr.append((a,b))\n",
    "arr.sort()\n",
    "for i in range(N):\n",
    "    print(arr[i][0],arr[i][1])"
   ]
  }
 ],
 "metadata": {
  "kernelspec": {
   "display_name": "Python 3",
   "language": "python",
   "name": "python3"
  },
  "language_info": {
   "codemirror_mode": {
    "name": "ipython",
    "version": 3
   },
   "file_extension": ".py",
   "mimetype": "text/x-python",
   "name": "python",
   "nbconvert_exporter": "python",
   "pygments_lexer": "ipython3",
   "version": "3.7.3"
  }
 },
 "nbformat": 4,
 "nbformat_minor": 2
}
