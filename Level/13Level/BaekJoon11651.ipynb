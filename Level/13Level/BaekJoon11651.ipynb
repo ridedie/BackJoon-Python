{
 "cells": [
  {
   "cell_type": "code",
   "execution_count": 4,
   "metadata": {},
   "outputs": [
    {
     "name": "stdout",
     "output_type": "stream",
     "text": [
      "2\n",
      "1 4\n",
      "2 5\n",
      "1 4\n",
      "2 5\n"
     ]
    }
   ],
   "source": [
    "N = int(input())\n",
    " \n",
    "A = []\n",
    "for _ in range(N):\n",
    "    xy = list(map(int,input().split()))\n",
    "    A.append([xy[1],xy[0]])\n",
    " \n",
    "A.sort()\n",
    " \n",
    "for i in A:\n",
    "    print(i[1],i[0])"
   ]
  }
 ],
 "metadata": {
  "kernelspec": {
   "display_name": "Python 3",
   "language": "python",
   "name": "python3"
  },
  "language_info": {
   "codemirror_mode": {
    "name": "ipython",
    "version": 3
   },
   "file_extension": ".py",
   "mimetype": "text/x-python",
   "name": "python",
   "nbconvert_exporter": "python",
   "pygments_lexer": "ipython3",
   "version": "3.7.3"
  }
 },
 "nbformat": 4,
 "nbformat_minor": 2
}
