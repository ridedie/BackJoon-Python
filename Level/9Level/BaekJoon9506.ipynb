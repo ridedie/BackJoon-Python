{
 "cells": [
  {
   "cell_type": "code",
   "execution_count": null,
   "metadata": {},
   "outputs": [],
   "source": [
    "while True:\n",
    "    n = int(input())\n",
    "    if n == -1:\n",
    "        break;\n",
    "    arr = []\n",
    "    for i in range(1, n):\n",
    "        if n % i == 0:\n",
    "            arr.append(i)\n",
    "    if sum(arr) == n:\n",
    "        print(n, \" = \", \" + \".join(str(i) for i in arr), sep=\"\")\n",
    "    else:\n",
    "        print(n, \"is NOT perfect.\")"
   ]
  }
 ],
 "metadata": {
  "kernelspec": {
   "display_name": "Python 3",
   "language": "python",
   "name": "python3"
  },
  "language_info": {
   "codemirror_mode": {
    "name": "ipython",
    "version": 3
   },
   "file_extension": ".py",
   "mimetype": "text/x-python",
   "name": "python",
   "nbconvert_exporter": "python",
   "pygments_lexer": "ipython3",
   "version": "3.7.3"
  }
 },
 "nbformat": 4,
 "nbformat_minor": 2
}
