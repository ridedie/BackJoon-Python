{
 "cells": [
  {
   "cell_type": "code",
   "execution_count": 2,
   "metadata": {},
   "outputs": [
    {
     "name": "stdout",
     "output_type": "stream",
     "text": [
      "3 12\n",
      "factor\n",
      "12 5\n",
      "neither\n",
      "9 3\n",
      "multiple\n",
      "0 0\n"
     ]
    }
   ],
   "source": [
    "while True:\n",
    "    A, B = map(int, input().split())\n",
    "    if A==0 and B==0:\n",
    "        break\n",
    "    if B % A == 0:\n",
    "        print(\"factor\")\n",
    "    elif A%B == 0:\n",
    "        print(\"multiple\")\n",
    "    else:\n",
    "        print(\"neither\")"
   ]
  }
 ],
 "metadata": {
  "kernelspec": {
   "display_name": "Python 3",
   "language": "python",
   "name": "python3"
  },
  "language_info": {
   "codemirror_mode": {
    "name": "ipython",
    "version": 3
   },
   "file_extension": ".py",
   "mimetype": "text/x-python",
   "name": "python",
   "nbconvert_exporter": "python",
   "pygments_lexer": "ipython3",
   "version": "3.7.3"
  }
 },
 "nbformat": 4,
 "nbformat_minor": 2
}
