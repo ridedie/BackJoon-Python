{
 "cells": [
  {
   "cell_type": "code",
   "execution_count": null,
   "metadata": {},
   "outputs": [],
   "source": [
    "start_num = int(input())\n",
    "last_num = int(input())\n",
    "\n",
    "sosu_list = []\n",
    "for num in range(start_num, last_num+1):\n",
    "    error = 0\n",
    "    if num > 1 :\n",
    "        for i in range(2, num):  # 2부터 num-1까지\n",
    "            if num % i == 0:\n",
    "                error += 1\n",
    "                break  # 2부터 num-1까지 나눈 몫이 0이면 error가 증가하고 for문을 끝냄\n",
    "        if error == 0:\n",
    "            sosu_list.append(num)  # error가 없으면 소수리스트에 추가\n",
    "            \n",
    "if len(sosu_list) > 0 :\n",
    "    print(sum(sosu_list))\n",
    "    print(min(sosu_list))\n",
    "else:\n",
    "    print(-1)"
   ]
  },
  {
   "cell_type": "code",
   "execution_count": null,
   "metadata": {},
   "outputs": [],
   "source": [
    "M = int(input())\n",
    "N = int(input())\n",
    "\n",
    "sosu = []\n",
    "\n",
    "for num in range(M, N+1):\n",
    "    sosuX = 0\n",
    "    if num > 1:\n",
    "        for i in range(2, num):\n",
    "            if num%i == 0:\n",
    "                sosuX += 1"
   ]
  }
 ],
 "metadata": {
  "kernelspec": {
   "display_name": "Python 3",
   "language": "python",
   "name": "python3"
  },
  "language_info": {
   "codemirror_mode": {
    "name": "ipython",
    "version": 3
   },
   "file_extension": ".py",
   "mimetype": "text/x-python",
   "name": "python",
   "nbconvert_exporter": "python",
   "pygments_lexer": "ipython3",
   "version": "3.7.3"
  }
 },
 "nbformat": 4,
 "nbformat_minor": 2
}
