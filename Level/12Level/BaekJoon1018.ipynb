{
 "cells": [
  {
   "cell_type": "code",
   "execution_count": null,
   "metadata": {},
   "outputs": [],
   "source": [
    "N, M = map(int, input().split())\n",
    "A = []\n",
    "count = []\n",
    "\n",
    "for _ in range(N):\n",
    "    A.append(input())\n",
    "\n",
    "for x in range(N-7):\n",
    "    for y in range(M-7):\n",
    "        index1 = 0\n",
    "        index2 = 0\n",
    "        for i in range(x, x+8):\n",
    "            for j in range(y, y+8):\n",
    "                if (i+j) % 2 == 0:\n",
    "                    if A[i][j] != 'W':\n",
    "                        index1 += 1\n",
    "                    if A[i][j] != 'B':\n",
    "                        index2 += 1\n",
    "                else:\n",
    "                    if A[i][j] != 'B':\n",
    "                        index1 += 1\n",
    "                    if A[i][j] != 'W':\n",
    "                        index2 += 1\n",
    "        count.append(min(index1, index2))\n",
    "\n",
    "print(min(count))"
   ]
  }
 ],
 "metadata": {
  "kernelspec": {
   "display_name": "Python 3",
   "language": "python",
   "name": "python3"
  },
  "language_info": {
   "codemirror_mode": {
    "name": "ipython",
    "version": 3
   },
   "file_extension": ".py",
   "mimetype": "text/x-python",
   "name": "python",
   "nbconvert_exporter": "python",
   "pygments_lexer": "ipython3",
   "version": "3.7.3"
  }
 },
 "nbformat": 4,
 "nbformat_minor": 2
}
