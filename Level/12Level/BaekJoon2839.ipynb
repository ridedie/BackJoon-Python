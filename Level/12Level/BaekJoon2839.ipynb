{
 "cells": [
  {
   "cell_type": "code",
   "execution_count": null,
   "metadata": {},
   "outputs": [],
   "source": [
    "sugar = int(input())\n",
    "\n",
    "bag = 0\n",
    "while sugar >= 0 :\n",
    "    if sugar % 5 == 0 :  # 5의 배수이면\n",
    "        bag += (sugar // 5)  # 5로 나눈 몫을 구해야 정수가 됨\n",
    "        print(bag)\n",
    "        break\n",
    "    sugar -= 3  \n",
    "    bag += 1  # 5의 배수가 될 때까지 설탕-3, 봉지+1\n",
    "else :\n",
    "    print(-1)"
   ]
  },
  {
   "cell_type": "code",
   "execution_count": 3,
   "metadata": {},
   "outputs": [
    {
     "name": "stdout",
     "output_type": "stream",
     "text": [
      "4\n",
      "-1\n"
     ]
    }
   ],
   "source": [
    "N = int(input())\n",
    "\n",
    "A = 0\n",
    "\n",
    "while N >= 0:\n",
    "    if N % 5 == 0:\n",
    "        A += (N // 5)\n",
    "        print(A)\n",
    "        break\n",
    "    N -= 3\n",
    "    A += 1\n",
    "else:\n",
    "    print(-1)"
   ]
  }
 ],
 "metadata": {
  "kernelspec": {
   "display_name": "Python 3",
   "language": "python",
   "name": "python3"
  },
  "language_info": {
   "codemirror_mode": {
    "name": "ipython",
    "version": 3
   },
   "file_extension": ".py",
   "mimetype": "text/x-python",
   "name": "python",
   "nbconvert_exporter": "python",
   "pygments_lexer": "ipython3",
   "version": "3.7.3"
  }
 },
 "nbformat": 4,
 "nbformat_minor": 2
}
