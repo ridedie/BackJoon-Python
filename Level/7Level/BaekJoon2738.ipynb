{
 "cells": [
  {
   "cell_type": "code",
   "execution_count": null,
   "metadata": {},
   "outputs": [],
   "source": [
    "A, B = [], []\n",
    "\n",
    "N, M = map(int, input().split())\n",
    "\n",
    "for x in range(N):\n",
    "    x = list(map(int, input().split()))\n",
    "    A.append(x)\n",
    "\n",
    "for x in range(N):\n",
    "    x = list(map(int, input().split()))\n",
    "    B.append(x)\n",
    "    \n",
    "for x in range(N):\n",
    "    for y in range(M):\n",
    "        print(A[x][y] + B[x][y], end=' ')\n",
    "    print()"
   ]
  }
 ],
 "metadata": {
  "kernelspec": {
   "display_name": "Python 3",
   "language": "python",
   "name": "python3"
  },
  "language_info": {
   "codemirror_mode": {
    "name": "ipython",
    "version": 3
   },
   "file_extension": ".py",
   "mimetype": "text/x-python",
   "name": "python",
   "nbconvert_exporter": "python",
   "pygments_lexer": "ipython3",
   "version": "3.7.3"
  }
 },
 "nbformat": 4,
 "nbformat_minor": 2
}
