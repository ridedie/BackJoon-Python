{
 "cells": [
  {
   "cell_type": "code",
   "execution_count": 13,
   "metadata": {},
   "outputs": [
    {
     "name": "stdout",
     "output_type": "stream",
     "text": [
      "wj\n",
      "di\n",
      "xi\n",
      "wl\n",
      "si\n",
      "wdxwsjiili"
     ]
    }
   ],
   "source": [
    "A = [input() for _ in range(5)]\n",
    "\n",
    "for i in range(15):\n",
    "    for j in range(5):\n",
    "        if i < len(A[j]):\n",
    "            print(A[j][i], end=\"\")\n"
   ]
  }
 ],
 "metadata": {
  "kernelspec": {
   "display_name": "Python 3",
   "language": "python",
   "name": "python3"
  },
  "language_info": {
   "codemirror_mode": {
    "name": "ipython",
    "version": 3
   },
   "file_extension": ".py",
   "mimetype": "text/x-python",
   "name": "python",
   "nbconvert_exporter": "python",
   "pygments_lexer": "ipython3",
   "version": "3.7.3"
  }
 },
 "nbformat": 4,
 "nbformat_minor": 2
}
