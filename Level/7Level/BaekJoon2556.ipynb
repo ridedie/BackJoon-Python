{
 "cells": [
  {
   "cell_type": "code",
   "execution_count": null,
   "metadata": {},
   "outputs": [],
   "source": [
    "A = [list(map(int, input().split())) for _ in range(9)]\n",
    "\n",
    "max = 0\n",
    "max_x, max_y = 0, 0\n",
    "\n",
    "for x in range(9):\n",
    "    for y in range(9):\n",
    "        if max <= A[x][y]:\n",
    "            max_x = x+1\n",
    "            max_y = y+1\n",
    "            max = A[x][y]\n",
    "print(max)\n",
    "print(max_x, max_y)"
   ]
  }
 ],
 "metadata": {
  "kernelspec": {
   "display_name": "Python 3",
   "language": "python",
   "name": "python3"
  },
  "language_info": {
   "codemirror_mode": {
    "name": "ipython",
    "version": 3
   },
   "file_extension": ".py",
   "mimetype": "text/x-python",
   "name": "python",
   "nbconvert_exporter": "python",
   "pygments_lexer": "ipython3",
   "version": "3.7.3"
  }
 },
 "nbformat": 4,
 "nbformat_minor": 2
}
